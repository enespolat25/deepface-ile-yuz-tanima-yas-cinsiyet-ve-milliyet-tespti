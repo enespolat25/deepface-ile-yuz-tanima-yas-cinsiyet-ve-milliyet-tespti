{
 "cells": [
  {
   "cell_type": "markdown",
   "metadata": {},
   "source": [
    "# DeepFace ile Yüz Tanıma\n",
    "## Kurulum **pip install deepface**\n",
    "### Gerekli Kütüphaneler"
   ]
  },
  {
   "cell_type": "code",
   "execution_count": 1,
   "metadata": {},
   "outputs": [
    {
     "name": "stderr",
     "output_type": "stream",
     "text": [
      "Using TensorFlow backend.\n"
     ]
    }
   ],
   "source": [
    "from deepface import DeepFace\n",
    "import cv2\n",
    "import matplotlib.pyplot as plt"
   ]
  },
  {
   "cell_type": "markdown",
   "metadata": {},
   "source": [
    "### Resimlerin Okunması ve Gösterimi"
   ]
  },
  {
   "cell_type": "code",
   "execution_count": 5,
   "metadata": {},
   "outputs": [],
   "source": [
    "img1=cv2.imread(\"a1.jpg\")\n",
    "img2=cv2.imread(\"a2.jpg\")"
   ]
  },
  {
   "cell_type": "code",
   "execution_count": 6,
   "metadata": {},
   "outputs": [],
   "source": [
    "cv2.imshow('img1',img1)\n",
    "cv2.waitKey(0)\n",
    "cv2.imshow('img2',img2)\n",
    "cv2.waitKey(0)\n",
    "cv2.destroyAllWindows()"
   ]
  },
  {
   "cell_type": "markdown",
   "metadata": {},
   "source": [
    "### İki Resmin Karşılaştırılması"
   ]
  },
  {
   "cell_type": "code",
   "execution_count": 7,
   "metadata": {},
   "outputs": [
    {
     "name": "stdout",
     "output_type": "stream",
     "text": [
      "Using FB DeepFace model backend euclidean_l2 distance.\n",
      "İki resim farklı kişilere aittir.\n"
     ]
    }
   ],
   "source": [
    "karsilastir=DeepFace.verify(\"a1.jpg\", \"a2.jpg\"\n",
    "                           ,model_name=\"DeepFace\",\n",
    "                            distance_metric=\"euclidean_l2\") \n",
    "                           \n",
    "# diğer kullanılabilecek modeller : VGG-Face Facenet OpenFace\n",
    "# diğer kullanılabilecek metricler euclidean cosine  \n",
    "if karsilastir[\"verified\"]==True:\n",
    "    sonuc =\"İki resim aynı kişiye aittir.\"\n",
    "else :\n",
    "    sonuc = \"İki resim farklı kişilere aittir.\"\n",
    "\n",
    "print(sonuc)"
   ]
  },
  {
   "cell_type": "markdown",
   "metadata": {},
   "source": [
    "# DeepFace ile bir fotoğraf üzerinde yaş, cinsiyet, duygu ve Milliyet Analizi"
   ]
  },
  {
   "cell_type": "code",
   "execution_count": 8,
   "metadata": {},
   "outputs": [
    {
     "name": "stdout",
     "output_type": "stream",
     "text": [
      "Actions to do:  ['emotion', 'age', 'gender', 'race']\n"
     ]
    },
    {
     "name": "stderr",
     "output_type": "stream",
     "text": [
      "Action: race: 100%|██████████| 4/4 [00:05<00:00,  1.48s/it]   "
     ]
    },
    {
     "name": "stdout",
     "output_type": "stream",
     "text": [
      "Yaş:  25.859240182792607\n",
      "Cinsiyet:  Man\n",
      "Duygu:  neutral\n",
      "Milliyet:  middle eastern\n"
     ]
    },
    {
     "name": "stderr",
     "output_type": "stream",
     "text": [
      "\n"
     ]
    }
   ],
   "source": [
    "from deepface import DeepFace\n",
    "demography = DeepFace.analyze(\"a1.jpg\") #passing nothing as 2nd argument will find everything\n",
    "#demography = DeepFace.analyze(\"img4.jpg\", ['age', 'gender', 'race', 'emotion']) #identical to the line above\n",
    "#demographies = DeepFace.analyze([\"img1.jpg\", \"img2.jpg\", \"img3.jpg\"]) #analyzing multiple faces same time\n",
    "\n",
    "print(\"Yaş: \", demography[\"age\"])\n",
    "print(\"Cinsiyet: \", demography[\"gender\"])\n",
    "print(\"Duygu: \", demography[\"dominant_emotion\"])\n",
    "print(\"Milliyet: \", demography[\"dominant_race\"])"
   ]
  },
  {
   "cell_type": "markdown",
   "metadata": {},
   "source": [
    "### 34 yaşındayım :)\n",
    "# Faydalı olması dileğiyle"
   ]
  },
  {
   "cell_type": "code",
   "execution_count": null,
   "metadata": {},
   "outputs": [],
   "source": []
  }
 ],
 "metadata": {
  "kernelspec": {
   "display_name": "Python 3",
   "language": "python",
   "name": "python3"
  },
  "language_info": {
   "codemirror_mode": {
    "name": "ipython",
    "version": 3
   },
   "file_extension": ".py",
   "mimetype": "text/x-python",
   "name": "python",
   "nbconvert_exporter": "python",
   "pygments_lexer": "ipython3",
   "version": "3.6.7"
  }
 },
 "nbformat": 4,
 "nbformat_minor": 4
}
